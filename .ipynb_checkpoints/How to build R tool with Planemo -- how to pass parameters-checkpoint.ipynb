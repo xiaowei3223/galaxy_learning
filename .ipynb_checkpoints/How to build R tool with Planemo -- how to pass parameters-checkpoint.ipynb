{
 "cells": [
  {
   "cell_type": "markdown",
   "metadata": {},
   "source": [
    "# 1. Create an R function:"
   ]
  },
  {
   "cell_type": "code",
   "execution_count": null,
   "metadata": {},
   "outputs": [],
   "source": [
    "#usage : Rscript r_test1.R <para1> <para2> <para3>\n",
    "\n",
    "#pass parameters \n",
    "args<-commandArgs(TRUE)\n",
    "para1 <- args[1]\n",
    "para2 <- args[2]\n",
    "para3 <- args[3]\n",
    "\n",
    "#An R function\n",
    "r_test <- function(para1 = para1, para2 = para2){\n",
    "  x = paste0(\"parament1 is:\", para1, \"; parament2 is:\", para2)\n",
    "  return(x)\n",
    "}\n",
    "\n",
    "#example\n",
    "x <- r_test(para1 = para1, para2 = para2)\n",
    "\n",
    "#output the result\n",
    "write.table(x, file = para3)\n"
   ]
  },
  {
   "cell_type": "markdown",
   "metadata": {},
   "source": [
    "Save this function as `r_test1.R` in the directory `r_test1`."
   ]
  },
  {
   "cell_type": "markdown",
   "metadata": {},
   "source": [
    "**Notes:**\n",
    "\n",
    "   All R file is running at Terminal window, so R codes show be easily run in terminal and its parameters would get from the terminal input.   \n",
    "   Then the position with the parameter in terminal window would be desigined which parameter it is in R file.\n",
    "   \n",
    "   `commandArgs()` function provides access to a copy of the command line arguments supplied when this R session vas invoked.  "
   ]
  },
  {
   "cell_type": "markdown",
   "metadata": {},
   "source": [
    "# 2. Test the R function in Terminal with the command"
   ]
  },
  {
   "cell_type": "code",
   "execution_count": null,
   "metadata": {},
   "outputs": [],
   "source": [
    "Rscript r_test1.R 24 53 r_test1_result.txt"
   ]
  },
  {
   "cell_type": "markdown",
   "metadata": {},
   "source": [
    "<img src=\"imgs/r_test1.png\" width = 80% height = 80% align=center />\n",
    "\n",
    "Now you can see the content of `r_test1_result.txt`:  \n",
    "<img src=\"imgs/r_test1_result.png\" width = 80% height = 80% align=center />"
   ]
  },
  {
   "cell_type": "markdown",
   "metadata": {},
   "source": [
    "# 3. Using planemo build the XML file for this R function"
   ]
  },
  {
   "cell_type": "markdown",
   "metadata": {},
   "source": [
    "Galaxy tool definition file is XML file, or we can said it as wrapper. The XML file lays out the user interface for the tool, provides the glue that links your tool to Galaxy by telling Galaxy how to invoke it, what options to pass, and what files it will produce as output.\n",
    "\n",
    "The galaxy already designed this XML file contents, there has a lot of tags and attribute.\n",
    "\n",
    "More information about Galaxy XML file is at [here](https://docs.galaxyproject.org/en/latest/dev/schema.html).\n",
    "\n",
    "<img src=\"imgs/XML_all_tags.jpg\" width = 80% height = 80% align=center />"
   ]
  },
  {
   "cell_type": "markdown",
   "metadata": {},
   "source": [
    "**Planemo** is a command-line utilities to assist in developing Galaxy and Common Workflow Language artifacts - including tools, workflows, and training materials. \n",
    "\n",
    "More information about Planemo is at [here](https://planemo.readthedocs.io/en/latest/readme.html)."
   ]
  },
  {
   "cell_type": "markdown",
   "metadata": {},
   "source": [
    "## Step1: Run following command in terminal to build the XML file for this R function:"
   ]
  },
  {
   "cell_type": "code",
   "execution_count": null,
   "metadata": {},
   "outputs": [],
   "source": [
    "planemo tool_init --force \\\n",
    "--id 'r_test1' \\\n",
    "--name 'Test how to pass those parameters for R' \\\n",
    "--description 'Test how to pass those parameters for R' \\\n",
    "--example_command 'Rscript r_test1.R 24 53 r_test1_result.txt' \\\n",
    "--example_input 24 \\\n",
    "--example_input 53 \\\n",
    "--example_output 'r_test1_result.txt' \\\n",
    "--requirement 'r-base@3.6.0' \\\n",
    "--test_case"
   ]
  },
  {
   "cell_type": "markdown",
   "metadata": {},
   "source": [
    "<img src=\"imgs/planemo_tool_init_r_test1.png\" width = 80% height = 80% align=center />\n"
   ]
  },
  {
   "cell_type": "markdown",
   "metadata": {},
   "source": [
    "**Notes:** Here are `planemo tool_init` command help:"
   ]
  },
  {
   "cell_type": "code",
   "execution_count": null,
   "metadata": {},
   "outputs": [],
   "source": [
    "Usage: planemo tool_init [OPTIONS]\n",
    "\n",
    "  Generate tool outline from given arguments.\n",
    "\n",
    "Options:\n",
    "  -i, --id TEXT             Short identifier for new tool (no whitespace)\n",
    "  -f, --force               Overwrite existing tool if present.\n",
    "  -t, --tool FILE           Output path for new tool (default is <id>.xml)\n",
    "  -n, --name TEXT           Name for new tool (user facing)\n",
    "  --version TEXT            Tool XML version.\n",
    "  -d, --description TEXT    Short description for new tool (user facing)\n",
    "  -c, --command TEXT        Command potentially including cheetah variables\n",
    "                            ()(e.g. 'seqtk seq -a $input > $output')\n",
    "\n",
    "  --example_command TEXT    Example to command with paths to build Cheetah\n",
    "                            template from (e.g. 'seqtk seq -a 2.fastq >\n",
    "                            2.fasta'). Option cannot be used with --command,\n",
    "                            should be used --example_input and\n",
    "                            --example_output.\n",
    "\n",
    "  --example_input TEXT      For use with --example_command, replace input file\n",
    "                            (e.g. 2.fastq with a data input parameter).\n",
    "\n",
    "  --example_output TEXT     For use with --example_command, replace input file\n",
    "                            (e.g. 2.fastq with a tool output).\n",
    "\n",
    "  --named_output TEXT       Create a named output for use with command block\n",
    "                            for example specify --named_output=output1.bam and\n",
    "                            then use '-o $output1' in your command block.\n",
    "\n",
    "  --input TEXT              An input description (e.g. input.fasta)\n",
    "  --output TEXT             An output location (e.g. output.bam), the Galaxy\n",
    "                            datatype is inferred from the extension.\n",
    "\n",
    "  --help_text TEXT          Help text (reStructuredText)\n",
    "  --help_from_command TEXT  Auto populate help from supplied command.\n",
    "  --doi TEXT                Supply a DOI (http://www.doi.org/) easing citation\n",
    "                            of the tool for Galxy users (e.g. 10.1101/014043).\n",
    "\n",
    "  --cite_url TEXT           Supply a URL for citation.\n",
    "  --test_case               For use with --example_commmand, generate a tool\n",
    "                            test case from the supplied example.\n",
    "\n",
    "  --macros                  Generate a macros.xml for reuse across many tools.\n",
    "  --version_command TEXT    Command to print version (e.g. 'seqtk --version')\n",
    "  --requirement TEXT        Add a tool requirement package (e.g. 'seqtk' or\n",
    "                            'seqtk@1.68').\n",
    "\n",
    "  --container TEXT          Add a Docker image identifier for this tool.\n",
    "  --cwl                     Build a CWL tool instead of a Galaxy tool.\n",
    "  --help                    Show this message and exit.\n"
   ]
  },
  {
   "cell_type": "markdown",
   "metadata": {},
   "source": [
    "Now there has `r_test1.xml` file and `test-data` directory in `r_test1` directory. `r_test1.xml` content should be as following:"
   ]
  },
  {
   "cell_type": "raw",
   "metadata": {},
   "source": [
    "<tool id=\"r_test1\" name=\"Test how to pass those parameters for R\" version=\"0.1.0\" python_template_version=\"3.5\">\n",
    "    <description>Test how to pass those parameters for R</description>\n",
    "    <requirements>\n",
    "        <requirement type=\"package\" version=\"3.6.0\">r-base</requirement>\n",
    "    </requirements>\n",
    "    <command detect_errors=\"exit_code\"><![CDATA[\n",
    "        Rscript r_test1.R '$input1' '$input2' '$output1'\n",
    "    ]]></command>\n",
    "    <inputs>\n",
    "        <param type=\"data\" name=\"input1\" format=\"\" />\n",
    "        <param type=\"data\" name=\"input2\" format=\"\" />\n",
    "    </inputs>\n",
    "    <outputs>\n",
    "        <data name=\"output1\" format=\"txt\" />\n",
    "    </outputs>\n",
    "    <tests>\n",
    "        <test>\n",
    "            <param name=\"input1\" value=\"24\"/>\n",
    "            <param name=\"input2\" value=\"53\"/>\n",
    "            <output name=\"output1\" file=\"r_test1_result.txt\"/>\n",
    "        </test>\n",
    "    </tests>\n",
    "    <help><![CDATA[\n",
    "        TODO: Fill in help.\n",
    "    ]]></help>\n",
    "</tool>"
   ]
  },
  {
   "cell_type": "markdown",
   "metadata": {},
   "source": [
    "## Step2: Before we test this tool, we must modify `type` attribute in `<param>`and the content of `<command>`:"
   ]
  },
  {
   "cell_type": "code",
   "execution_count": null,
   "metadata": {},
   "outputs": [],
   "source": [
    "<tool id=\"r_test1\" name=\"Test how to pass those parameters for R\" version=\"0.1.0\" python_template_version=\"3.5\">\n",
    "    <description>Test how to pass those parameters for R</description>\n",
    "    <requirements>\n",
    "        <requirement type=\"package\" version=\"3.6.0\">r-base</requirement>\n",
    "    </requirements>\n",
    "    <command detect_errors=\"exit_code\"><![CDATA[\n",
    "        Rscript $__tool_directory__/r_test1.R '$input1' '$input2' '$output1'\n",
    "    ]]></command>\n",
    "    <inputs>\n",
    "        <param type=\"text\" name=\"input1\" value=\"\" label=\"Label for the first parameter\" />\n",
    "        <param type=\"text\" name=\"input2\" value=\"\" label=\"Label for the second parameter\"/>\n",
    "    </inputs>\n",
    "    <outputs>\n",
    "        <data name=\"output1\" format=\"txt\" />\n",
    "    </outputs>\n",
    "    <tests>\n",
    "        <test>\n",
    "            <param name=\"input1\" value=\"24\"/>\n",
    "            <param name=\"input2\" value=\"53\"/>\n",
    "            <output name=\"output1\" file=\"r_test1_result.txt\"/>\n",
    "        </test>\n",
    "    </tests>\n",
    "    <help><![CDATA[\n",
    "        TODO: Fill in help.\n",
    "    ]]></help>\n",
    "</tool>"
   ]
  },
  {
   "cell_type": "markdown",
   "metadata": {},
   "source": [
    "**Note:** \n",
    "\n",
    "We add `$__tool_directory__/` before `r_test1.R` in order to help galaxy find out the file. `$__tool_directory__/` is the directory the tool description (XML file) currently resides in.\n",
    "    \n",
    "More reserved varibles are at [here](https://docs.galaxyproject.org/en/latest/dev/schema.html#reserved-variables).\n",
    " \n",
    "Because our parameter are not data type, so we must change it.\n",
    "\n",
    "Here has a [link](https://docs.galaxyproject.org/en/latest/dev/schema.html#tool-inputs-param) to help you how to write attribute of all kinds of parameter."
   ]
  },
  {
   "cell_type": "markdown",
   "metadata": {},
   "source": [
    "# 4. Download Galaxy and make some changing"
   ]
  },
  {
   "cell_type": "markdown",
   "metadata": {},
   "source": [
    "When you first use Galaxy, you should do some changing in case showing ERROR.\n"
   ]
  },
  {
   "cell_type": "markdown",
   "metadata": {},
   "source": [
    "## Step1: download the Galaxy:"
   ]
  },
  {
   "cell_type": "raw",
   "metadata": {},
   "source": [
    "git clone -b release_20.05 https://github.com/galaxyproject/galaxy.git"
   ]
  },
  {
   "cell_type": "markdown",
   "metadata": {},
   "source": [
    "## Step2: copy or rename all files in `galaxy/tool-data` directory."
   ]
  },
  {
   "cell_type": "raw",
   "metadata": {},
   "source": [
    "cd tool-data\n",
    "ls\n",
    "for i in `ls | grep .sample`; do mv $i `echo \"$i\" | awk -F '.sample' '{print $1}'`;done"
   ]
  },
  {
   "cell_type": "markdown",
   "metadata": {},
   "source": [
    "<img src=\"imgs/galaxy_c1.png\" width = 80% height = 80% align=center />"
   ]
  },
  {
   "cell_type": "markdown",
   "metadata": {},
   "source": [
    "## Step3: copy or rename the `tool_data_table_confi.xml.sample` files as `tool_data_table_confi.xml` in `galaxy/config` directory."
   ]
  },
  {
   "cell_type": "raw",
   "metadata": {},
   "source": [
    "cd ..\n",
    "cd config/\n",
    "ls\n",
    "cp tool_data_table_conf.xml.sample tool_data_table_conf.xml"
   ]
  },
  {
   "cell_type": "markdown",
   "metadata": {},
   "source": [
    "<img src=\"imgs/galaxy_c2.png\" width = 80% height = 80% align=center />"
   ]
  },
  {
   "cell_type": "markdown",
   "metadata": {},
   "source": [
    "# 5 Test the tool with `planemo s` or `planemo serve`"
   ]
  },
  {
   "cell_type": "markdown",
   "metadata": {},
   "source": [
    "## Step1: Run following command in terminal:"
   ]
  },
  {
   "cell_type": "code",
   "execution_count": null,
   "metadata": {},
   "outputs": [],
   "source": [
    "planemo s --galaxy_root /home/xiaowei/Galaxy/Galaxy_20.05/galaxy3 \\\n",
    "--galaxy_python_version 3.6 \\\n",
    "--host 0.0.0.0 \\\n",
    "--port 9090"
   ]
  },
  {
   "cell_type": "markdown",
   "metadata": {},
   "source": [
    "**Notes:**\n",
    "\n",
    "In my serve, `galaxy root` is at `/home/xiaowei/Galaxy/Galaxy_20.05/galaxy3`, so please change the path to your `galaxy root` when use yours.\n",
    "\n",
    "`--galaxy_python_version 3.6` is tell the planemo using python 3.6 instead of python2.7, if you didn't set, then it will show ERROR when you run.\n",
    "\n",
    "`--host 0.0.0.0` is for remote computer checking the web.\n",
    "\n",
    "`--port INTEGER` is port to seve galaxy on (default is 9090). So before we check the web with remote computer, we need to open the port `9090` or you designed. "
   ]
  },
  {
   "cell_type": "markdown",
   "metadata": {},
   "source": [
    "## Step2: Open the port with command:"
   ]
  },
  {
   "cell_type": "code",
   "execution_count": null,
   "metadata": {},
   "outputs": [],
   "source": [
    "sudo firewall-cmd --zone=public --permanent --add-port=9090/tcp\n",
    "sudo firewall-cmd --reload \n",
    "sudo firewall-cmd --list-ports "
   ]
  },
  {
   "cell_type": "markdown",
   "metadata": {},
   "source": [
    "## Step3: Open http://server_IP:9090 with browser:"
   ]
  },
  {
   "cell_type": "markdown",
   "metadata": {},
   "source": [
    "\n",
    "<img src=\"imgs/r_test1_galaxy.png\" width = 80% height = 80% align=center />\n",
    "\n",
    "**Test this tool:**\n",
    "<img src=\"imgs/r_test1_galaxy2.png\" width = 80% height = 80% align=center />\n",
    "\n"
   ]
  },
  {
   "cell_type": "markdown",
   "metadata": {},
   "source": [
    "**Input `sss` in box 1 and `ddddd` in box 2, the result as following:**"
   ]
  },
  {
   "cell_type": "markdown",
   "metadata": {},
   "source": [
    "\n",
    "<img src=\"imgs/r_test1_galaxy3.png\" width = 80% height = 80% align=center />"
   ]
  },
  {
   "cell_type": "markdown",
   "metadata": {},
   "source": [
    "# 6 Parameters map R file,XML file and galaxy tool interface. "
   ]
  },
  {
   "cell_type": "markdown",
   "metadata": {},
   "source": [
    "\n",
    "<img src=\"imgs/galaxy_tool_parameters_map.png\" width = 80% height = 80% align=center />"
   ]
  }
 ],
 "metadata": {
  "kernelspec": {
   "display_name": "Python 3",
   "language": "python",
   "name": "python3"
  },
  "language_info": {
   "codemirror_mode": {
    "name": "ipython",
    "version": 3
   },
   "file_extension": ".py",
   "mimetype": "text/x-python",
   "name": "python",
   "nbconvert_exporter": "python",
   "pygments_lexer": "ipython3",
   "version": "3.7.4"
  }
 },
 "nbformat": 4,
 "nbformat_minor": 2
}
