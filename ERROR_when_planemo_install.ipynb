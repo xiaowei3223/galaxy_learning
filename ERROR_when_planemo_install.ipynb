{
 "cells": [
  {
   "cell_type": "markdown",
   "metadata": {},
   "source": [
    "Here show you some ERROR when you use `pip install planemo`. If after you already installed the requirment python project package, it still show you same problem, I suggest you use conda install planemo or to check your python version or vitural environmet."
   ]
  },
  {
   "cell_type": "markdown",
   "metadata": {},
   "source": [
    "# 1. `ERROR: Could not find a version that satisfies the requirement setuptools_scm`"
   ]
  },
  {
   "cell_type": "markdown",
   "metadata": {},
   "source": [
    "When you install planemo, it maybe show you `ERROR: Could not find a version that satisfies the requirement setuptools_scm `. FULL `ERROR  Log` will show you later, The first I give you my way to solve this problem is input following codes in terminal window:"
   ]
  },
  {
   "cell_type": "raw",
   "metadata": {},
   "source": [
    "pip install setuptools_scm"
   ]
  },
  {
   "cell_type": "markdown",
   "metadata": {},
   "source": [
    "Or"
   ]
  },
  {
   "cell_type": "raw",
   "metadata": {},
   "source": [
    "pip install --ignore-installed setuptools_scm"
   ]
  },
  {
   "cell_type": "markdown",
   "metadata": {},
   "source": [
    "## The `ERROR Log` is"
   ]
  },
  {
   "cell_type": "raw",
   "metadata": {},
   "source": [
    "ERROR: Command errored out with exit status 1:\n",
    "     command: /home/xiaowei/Galaxy/galaxy_for_Production/.venv/bin/python -c 'import sys, setuptools, tokenize; sys.argv[0] = '\"'\"'/tmp/pip-install-UuEj3E/bagit/setup.py'\"'\"'; __file__='\"'\"'/tmp/pip-install-UuEj3E/bagit/setup.py'\"'\"';f=getattr(tokenize, '\"'\"'open'\"'\"', open)(__file__);code=f.read().replace('\"'\"'\\r\\n'\"'\"', '\"'\"'\\n'\"'\"');f.close();exec(compile(code, __file__, '\"'\"'exec'\"'\"'))' egg_info --egg-base /tmp/pip-pip-egg-info-CoKwG7\n",
    "         cwd: /tmp/pip-install-UuEj3E/bagit/\n",
    "    Complete output (25 lines):\n",
    "    DEPRECATION: Python 2.7 reached the end of its life on January 1st, 2020. Please upgrade your Python as Python 2.7 is no longer maintained. pip 21.0 will drop support for Python 2.7 in January 2021. More details about Python 2 support in pip, can be found at https://pip.pypa.io/en/latest/development/release-process/#python-2-support\n",
    "    WARNING: The repository located at mirrors.aliyun.com is not a trusted or secure host and is being ignored. If this repository is available via HTTPS we recommend you use HTTPS instead, otherwise you may silence this warning and allow it anyway with '--trusted-host mirrors.aliyun.com'.\n",
    "    ERROR: Could not find a version that satisfies the requirement setuptools_scm (from versions: none)\n",
    "    ERROR: No matching distribution found for setuptools_scm\n",
    "    Traceback (most recent call last):\n",
    "      File \"<string>\", line 1, in <module>\n",
    "      File \"/tmp/pip-install-UuEj3E/bagit/setup.py\", line 78, in <module>\n",
    "        \"Programming Language :: Python :: 3.6\",\n",
    "      File \"/home/xiaowei/Galaxy/galaxy_for_Production/.venv/lib/python2.7/site-packages/setuptools/__init__.py\", line 161, in setup\n",
    "        _install_setup_requires(attrs)\n",
    "      File \"/home/xiaowei/Galaxy/galaxy_for_Production/.venv/lib/python2.7/site-packages/setuptools/__init__.py\", line 156, in _install_setup_requires\n",
    "        dist.fetch_build_eggs(dist.setup_requires)\n",
    "      File \"/home/xiaowei/Galaxy/galaxy_for_Production/.venv/lib/python2.7/site-packages/setuptools/dist.py\", line 721, in fetch_build_eggs\n",
    "        replace_conflicting=True,\n",
    "      File \"/home/xiaowei/Galaxy/galaxy_for_Production/.venv/lib/python2.7/site-packages/pkg_resources/__init__.py\", line 782, in resolve\n",
    "        replace_conflicting=replace_conflicting\n",
    "      File \"/home/xiaowei/Galaxy/galaxy_for_Production/.venv/lib/python2.7/site-packages/pkg_resources/__init__.py\", line 1065, in best_match\n",
    "        return self.obtain(req, installer)\n",
    "      File \"/home/xiaowei/Galaxy/galaxy_for_Production/.venv/lib/python2.7/site-packages/pkg_resources/__init__.py\", line 1077, in obtain\n",
    "        return installer(requirement)\n",
    "      File \"/home/xiaowei/Galaxy/galaxy_for_Production/.venv/lib/python2.7/site-packages/setuptools/dist.py\", line 777, in fetch_build_egg\n",
    "        return fetch_build_egg(self, req)\n",
    "      File \"/home/xiaowei/Galaxy/galaxy_for_Production/.venv/lib/python2.7/site-packages/setuptools/installer.py\", line 130, in fetch_build_egg\n",
    "        raise DistutilsError(str(e))\n",
    "    distutils.errors.DistutilsError: Command '['/home/xiaowei/Galaxy/galaxy_for_Production/.venv/bin/python', '-m', 'pip', '--disable-pip-version-check', 'wheel', '--no-deps', '-w', '/tmp/tmp1AMJtZ', '--quiet', 'setuptools_scm']' returned non-zero exit status 1\n",
    "    ----------------------------------------\n",
    "ERROR: Command errored out with exit status 1: python setup.py egg_info Check the logs for full command output."
   ]
  },
  {
   "cell_type": "markdown",
   "metadata": {},
   "source": [
    "# 2. `ERROR: packaging 20.4 has requirement pyparsing>=2.0.2`"
   ]
  },
  {
   "cell_type": "markdown",
   "metadata": {},
   "source": [
    "Just install or update the python project `pyparsing`:"
   ]
  },
  {
   "cell_type": "raw",
   "metadata": {},
   "source": [
    "pip install --ignore-installed pyparsing"
   ]
  },
  {
   "cell_type": "markdown",
   "metadata": {},
   "source": [
    "This code will be install the latest version of `pyparsing`."
   ]
  },
  {
   "cell_type": "markdown",
   "metadata": {},
   "source": [
    "# `ERROR: Cannot uninstall 'requests'. It is a distutils installed project and thus we cannot accurately determine which files belong to it which would lead to only a partial uninstall.`"
   ]
  },
  {
   "cell_type": "markdown",
   "metadata": {},
   "source": [
    "Also use code:"
   ]
  },
  {
   "cell_type": "raw",
   "metadata": {},
   "source": [
    "pip install --ignore-installed requests"
   ]
  }
 ],
 "metadata": {
  "kernelspec": {
   "display_name": "Python 3",
   "language": "python",
   "name": "python3"
  },
  "language_info": {
   "codemirror_mode": {
    "name": "ipython",
    "version": 3
   },
   "file_extension": ".py",
   "mimetype": "text/x-python",
   "name": "python",
   "nbconvert_exporter": "python",
   "pygments_lexer": "ipython3",
   "version": "3.7.4"
  },
  "toc": {
   "base_numbering": 1,
   "nav_menu": {},
   "number_sections": true,
   "sideBar": true,
   "skip_h1_title": false,
   "title_cell": "Table of Contents",
   "title_sidebar": "Contents",
   "toc_cell": false,
   "toc_position": {},
   "toc_section_display": true,
   "toc_window_display": false
  }
 },
 "nbformat": 4,
 "nbformat_minor": 2
}
