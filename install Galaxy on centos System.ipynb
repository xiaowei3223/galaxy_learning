{
 "cells": [
  {
   "cell_type": "markdown",
   "metadata": {},
   "source": [
    "This file is refer the page of [Get Galaxy](https://galaxyproject.org/admin/get-galaxy/)"
   ]
  },
  {
   "cell_type": "markdown",
   "metadata": {},
   "source": [
    "# Requurements"
   ]
  },
  {
   "cell_type": "markdown",
   "metadata": {},
   "source": [
    "- UNIX/Linux or Mac OSX\n",
    "- Python 3.6 or 3.5"
   ]
  },
  {
   "cell_type": "markdown",
   "metadata": {},
   "source": [
    "# 1. Connect Lab server"
   ]
  },
  {
   "cell_type": "markdown",
   "metadata": {},
   "source": [
    "We use ssh to connect the Lab server, input following codes in terminal window:\n",
    "```\n",
    "    ssh username@server_address\n",
    "```\n",
    "Then input password of user.  \n",
    "\n",
    "**notes:**  \n",
    "    When you use ssh connect the server, you need to change `username` as your accout and `server_address` as your server ip address.\n"
   ]
  },
  {
   "cell_type": "markdown",
   "metadata": {},
   "source": [
    "# 2. Install python 3.5"
   ]
  },
  {
   "cell_type": "markdown",
   "metadata": {},
   "source": [
    "Due to centos system on Lab server dafault python 2.7, we should install python 3.5 for Galaxy."
   ]
  },
  {
   "cell_type": "markdown",
   "metadata": {},
   "source": [
    "## 2.1 Use root account for install python 3.5\n",
    "Input follwing codes in terminal window:  \n",
    "    \n",
    "```\n",
    "    sudo su\n",
    "```\n",
    "and input your password.\n",
    "## 2.2 Change direcotry to /usr/local/\n",
    "We install python3.5 in `/usr/local` directory. So it should be in this direcotry.\n",
    "```\n",
    "    cd /usr/local/\n",
    "```\n",
    "## 2.3 download python3.5\n",
    "```\n",
    "    curl -O https://www.python.org/ftp/python/3.5.0/Python-3.5.0.tgz\n",
    "```\n",
    "## 2.4 unzip Python-3.5.0.tgz and install\n",
    "```\n",
    "     tar xf Python-3.5.0.tgz\n",
    "\t cd Python-3.5.0\n",
    "\t ./configure\n",
    "\t make\n",
    "\t sudo make install\n",
    "```\n",
    "## 2.5 Setting python3.5 as python default version\n",
    "1. We edit file `/etc/profile.d/python.sh`:\n",
    "```\n",
    "    vi /etc/profile.d/python.sh\n",
    "```\n",
    "2. press `i` key for edit this file,and write codes as following:\n",
    "```\n",
    "    alias python=’/usr/local/bin/python3.5’\n",
    "```\n",
    "3. Save and exit:  \n",
    "    Press `Esc` key, and input `:wq!`\n",
    "\n",
    "4. Restart this file to become effective:\n",
    "```\n",
    "source /etc/profile.d/python.sh\n",
    "```\n",
    "5. Check the python version:\n",
    "```\n",
    "python -V\n",
    "```\n",
    "\n",
    "## 2.6 Go back to your localhost and under your the first page:\n",
    "```\n",
    "sudo su xiaowei\n",
    "cd ~\n",
    "```\n",
    "**notes:**\n",
    "`xiaowei` is user account.\n"
   ]
  },
  {
   "cell_type": "markdown",
   "metadata": {},
   "source": [
    "# 3 Install Galaxy\n",
    "## 3.1 Create Galaxy folder and to this folder \n",
    "```\n",
    "mkdir Galaxy\n",
    "cd Galaxy\n",
    "```\n",
    "## 3.2 Clone Galaxy repository from github.\n",
    "Here we download galaxy for develpment:\n",
    "```\n",
    "git clone https://github.com/galaxyproject/galaxy.git\n",
    "```\n",
    "![download_galaxy.png](imgs/download_galaxy.png)\n",
    "\n",
    "## 3.3 Galaxy over network\n",
    "Because we cannot directly use server broswer, so we make galaxy over network.  \n",
    "\n",
    "1. For modify configuration,copy the sample and rename it to galaxy.yml:\n",
    "```\n",
    "cp config/galaxy.yml.sample config/galaxy.yml\n",
    "```\n",
    "2. To access Galaxy over the network, modify the config/galaxy.yml file by changing the http setting. Galaxy will bind to any available network interfaces instead of the localhost if you change it like this:\n",
    "```\n",
    "http: 0.0.0.0\n",
    "```\n",
    "3. Open port 8080\n",
    "```\n",
    "    sudo firewall-cmd --zone=public --permanent --add-port=8080/tcp\n",
    "    sudo firewall-cmd --reload\n",
    "    sudo firewall-cmd --list-ports\n",
    "```\n",
    "\n",
    "## 3.4 Start galaxy\n",
    "```\n",
    "cd galaxy\n",
    "sh run.sh\n",
    "```\n",
    "**notes:**  \n",
    "At First start galaxy, you can drink a coffee during waiting time.\n",
    "## 3.5 View By broswer\n",
    "Go to address: [http://10.168.119.229:8080](http://10.168.119.229:8080)\n",
    "<img src=\"imgs/galaxy_indexPage.png\" width = 80% height = 80% align=center />\n",
    "\n",
    "## 3.6 Stop galaxy\n",
    "Press `Ctrl` + `C` to Stop."
   ]
  },
  {
   "cell_type": "code",
   "execution_count": null,
   "metadata": {},
   "outputs": [],
   "source": []
  }
 ],
 "metadata": {
  "kernelspec": {
   "display_name": "Python 3",
   "language": "python",
   "name": "python3"
  },
  "language_info": {
   "codemirror_mode": {
    "name": "ipython",
    "version": 3
   },
   "file_extension": ".py",
   "mimetype": "text/x-python",
   "name": "python",
   "nbconvert_exporter": "python",
   "pygments_lexer": "ipython3",
   "version": "3.7.4"
  },
  "toc": {
   "base_numbering": 1,
   "nav_menu": {},
   "number_sections": true,
   "sideBar": true,
   "skip_h1_title": false,
   "title_cell": "Table of Contents",
   "title_sidebar": "Contents",
   "toc_cell": false,
   "toc_position": {},
   "toc_section_display": true,
   "toc_window_display": false
  }
 },
 "nbformat": 4,
 "nbformat_minor": 2
}
