{
 "cells": [
  {
   "cell_type": "markdown",
   "metadata": {},
   "source": [
    "Planemo is a python project, which help you build and publish Galaxy tool.   \n",
    "Here we should you is how to install planemo in centos7.   \n",
    "Install Planemo has two ways: using `pip` or `conda`."
   ]
  },
  {
   "cell_type": "markdown",
   "metadata": {},
   "source": [
    "# Pip install Planemo"
   ]
  },
  {
   "cell_type": "markdown",
   "metadata": {},
   "source": [
    "That is our system install environment:\n",
    "\n",
    "   - centos 7  \n",
    "   - python 2.7\n",
    "   - python 3.5\n",
    "    \n",
    "## 1.In order no `ERROR`, I suggest it uses python3 to  create virtual environment:\n",
    "\n",
    "Use following code will auto create a virtual environment `venv_dir` and a folder name `venv_dir`. If you want to hide folder, you add `.` before `venv_dir`."
   ]
  },
  {
   "cell_type": "raw",
   "metadata": {},
   "source": [
    "python3 -m venv venv_dir "
   ]
  },
  {
   "cell_type": "markdown",
   "metadata": {},
   "source": [
    "\n",
    "<img src=\"imgs/planemo_install.png\" width = 80% height = 80% align=center />"
   ]
  },
  {
   "cell_type": "markdown",
   "metadata": {},
   "source": [
    "## 2.Activate this virtual environment:"
   ]
  },
  {
   "cell_type": "raw",
   "metadata": {},
   "source": [
    "cd venv_dir/\n",
    "\n",
    "source ./bin/activate"
   ]
  },
  {
   "cell_type": "markdown",
   "metadata": {},
   "source": [
    "After you enable your virtual environment, all your operation will be in this virtual envirment. If you are not in virtual environment, you shall be input `deactivate` to terminal window for end this virtual environment. "
   ]
  },
  {
   "cell_type": "markdown",
   "metadata": {},
   "source": [
    "## 3.Update `pip` \n",
    "`Pip` version must be `>=7` before install planemo. If `pip` version not `>=7`, please run this command to update `pip`:"
   ]
  },
  {
   "cell_type": "raw",
   "metadata": {},
   "source": [
    "pip install \"pip>=7\"\n",
    "\n",
    "pip install --upgrade pip"
   ]
  },
  {
   "cell_type": "markdown",
   "metadata": {},
   "source": [
    "\n",
    "<img src=\"imgs/planemo_install2.png\" width = 80% height = 80% align=center />"
   ]
  },
  {
   "cell_type": "markdown",
   "metadata": {},
   "source": [
    "## 4.Install planemo\n",
    "\n"
   ]
  },
  {
   "cell_type": "raw",
   "metadata": {},
   "source": [
    "pip install planemo"
   ]
  },
  {
   "cell_type": "markdown",
   "metadata": {},
   "source": [
    "When installed this way, planemo can be upgraded use command   \n",
    "`pip install -U planemo` or `pip install -U git+git://github.com/galaxyproject/planemo.git`."
   ]
  },
  {
   "cell_type": "markdown",
   "metadata": {},
   "source": [
    "## 5. ERROR"
   ]
  },
  {
   "cell_type": "markdown",
   "metadata": {},
   "source": [
    "When you use `pip install planemo`, it maybe show you some ERROR. So you can see the [link](ERROR_when_planemo_install.ipynb) to solve your ERROR. This link is some ERROR when I used `pip install planemo`."
   ]
  },
  {
   "cell_type": "markdown",
   "metadata": {},
   "source": [
    "# Conda install planemo"
   ]
  },
  {
   "cell_type": "markdown",
   "metadata": {},
   "source": [
    "Conda is an open-source package management system and environment management system that runs on Windows, macOS, and Linux.   \n",
    "Conda quickly install, runs, and updates packages and their dependencies.  \n",
    "Conda easily creates, saves, loads, and switches between environments on your local computer.  "
   ]
  },
  {
   "cell_type": "markdown",
   "metadata": {},
   "source": [
    "Conda play an important role in building Galaxy tools because some Galaxy tools requirment packages are installed by conda. If you are interest in conda, you can see [user guide of conda](https://docs.conda.io/projects/conda/en/latest/user-guide/index.html) . "
   ]
  },
  {
   "cell_type": "markdown",
   "metadata": {},
   "source": [
    "## 1.Install conda"
   ]
  },
  {
   "cell_type": "markdown",
   "metadata": {},
   "source": [
    "Conda install on linux, you can choose install Miniconda or Anaconda. Here I chose Anaconda to install.   \n",
    "\n",
    "### Step1: Download Anaconda:"
   ]
  },
  {
   "cell_type": "raw",
   "metadata": {},
   "source": [
    "curl -O https://repo.anaconda.com/archive/Anaconda3-2020.02-Linux-x86_64.sh"
   ]
  },
  {
   "cell_type": "markdown",
   "metadata": {},
   "source": [
    "### Step2: in your terminal window,run:"
   ]
  },
  {
   "cell_type": "raw",
   "metadata": {},
   "source": [
    "bash Anaconda3-2020.02-Linux-x86_64.sh"
   ]
  },
  {
   "cell_type": "markdown",
   "metadata": {},
   "source": [
    "\n",
    "<img src=\"imgs/conda_install2.png\" width = 80% height = 80% align=center />"
   ]
  },
  {
   "cell_type": "markdown",
   "metadata": {},
   "source": [
    "### Step3: Activate conda before use conda"
   ]
  },
  {
   "cell_type": "raw",
   "metadata": {},
   "source": [
    "cd /anaconda3/bin/           #go to Anaconda installed directory\n",
    "\n",
    "source activate             #activate Anaconda"
   ]
  },
  {
   "cell_type": "markdown",
   "metadata": {},
   "source": [
    "<img src=\"imgs/conda_install3.png\" width = 80% height = 80% align=center />"
   ]
  },
  {
   "cell_type": "markdown",
   "metadata": {},
   "source": [
    "### Step4: check whether conda install"
   ]
  },
  {
   "cell_type": "markdown",
   "metadata": {},
   "source": [
    "just input `conda` in your terminal:"
   ]
  },
  {
   "cell_type": "raw",
   "metadata": {},
   "source": [
    "conda"
   ]
  },
  {
   "cell_type": "markdown",
   "metadata": {},
   "source": [
    "\n",
    "\n",
    "<img src=\"imgs/conda_version.png\" width = 80% height = 80% align=center />"
   ]
  },
  {
   "cell_type": "markdown",
   "metadata": {},
   "source": [
    "## 2. Conda install planemo "
   ]
  },
  {
   "cell_type": "markdown",
   "metadata": {},
   "source": [
    "Input following codes in terminal:"
   ]
  },
  {
   "cell_type": "raw",
   "metadata": {},
   "source": [
    "conda config --add channels bioconda\n",
    "\n",
    "conda config --add channels conda-forge\n",
    "\n",
    "conda install planemo"
   ]
  },
  {
   "cell_type": "markdown",
   "metadata": {},
   "source": [
    "# Check whether it install planemo"
   ]
  },
  {
   "cell_type": "markdown",
   "metadata": {},
   "source": [
    "Just run:"
   ]
  },
  {
   "cell_type": "raw",
   "metadata": {},
   "source": [
    "planemo --help"
   ]
  },
  {
   "cell_type": "markdown",
   "metadata": {},
   "source": [
    "\n",
    "<img src=\"imgs/planemo_help.png\" width = 80% height = 80% align=center />"
   ]
  },
  {
   "cell_type": "markdown",
   "metadata": {},
   "source": [
    "# reference"
   ]
  },
  {
   "cell_type": "markdown",
   "metadata": {},
   "source": [
    "1. [conda](https://docs.conda.io/projects/conda/en/latest/index.html)\n",
    "2. [planemo project description](https://pypi.org/project/planemo/)\n",
    "3. [planemo installation](https://planemo.readthedocs.io/en/latest/installation.html)"
   ]
  }
 ],
 "metadata": {
  "kernelspec": {
   "display_name": "Python 3",
   "language": "python",
   "name": "python3"
  },
  "language_info": {
   "codemirror_mode": {
    "name": "ipython",
    "version": 3
   },
   "file_extension": ".py",
   "mimetype": "text/x-python",
   "name": "python",
   "nbconvert_exporter": "python",
   "pygments_lexer": "ipython3",
   "version": "3.7.4"
  },
  "toc": {
   "base_numbering": 1,
   "nav_menu": {},
   "number_sections": true,
   "sideBar": true,
   "skip_h1_title": false,
   "title_cell": "Table of Contents",
   "title_sidebar": "Contents",
   "toc_cell": false,
   "toc_position": {},
   "toc_section_display": true,
   "toc_window_display": false
  }
 },
 "nbformat": 4,
 "nbformat_minor": 2
}
